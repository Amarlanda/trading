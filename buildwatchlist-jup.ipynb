{
 "metadata": {
  "language_info": {
   "codemirror_mode": {
    "name": "ipython",
    "version": 3
   },
   "file_extension": ".py",
   "mimetype": "text/x-python",
   "name": "python",
   "nbconvert_exporter": "python",
   "pygments_lexer": "ipython3",
   "version": "3.8.5-final"
  },
  "orig_nbformat": 2,
  "kernelspec": {
   "name": "python3",
   "display_name": "Python 3.8.5 64-bit ('base': conda)",
   "metadata": {
    "interpreter": {
     "hash": "f8e11569c329638421061bb3100f6d1d804ebb44dfb82223924aa5a362d3bd09"
    }
   }
  }
 },
 "nbformat": 4,
 "nbformat_minor": 2,
 "cells": [
  {
   "cell_type": "code",
   "execution_count": 57,
   "metadata": {},
   "outputs": [
    {
     "output_type": "stream",
     "name": "stdout",
     "text": [
      "GBPUSD, GBPEURAUD, GBPCAD, GBPCHF, GBPJPY, GBPNZD, GBPBTC, GBPETH, GBPXRP, GBPLTC, GBPEOS, GBPXBT, GBPBKEX, USDGBP, USDEURAUD, USDCAD, USDCHF, USDJPY, USDNZD, USDBTC, USDETH, USDXRP, USDLTC, USDEOS, USDXBT, USDBKEX, JYPUSD, JYPGBP, JYPEURAUD, JYPCAD, JYPCHF, JYPJPY, JYPNZD, JYPBTC, JYPETH, JYPXRP, JYPLTC, JYPEOS, JYPXBT, JYPBKEX\n"
     ]
    }
   ],
   "source": [
    "combinations = []\n",
    "\n",
    "def combine(terms, accum):\n",
    "    last = (len(terms) == 1)                       #find last term\n",
    "    n = len(terms[0])\n",
    "    bla =\"\"\n",
    "    StockExchange=\"\"\n",
    "    label = \"\"\n",
    "                \n",
    "    for i in range(n):\n",
    "        if accum != terms[0][i] : # currency pairs do not match\n",
    "          \n",
    "            #ruleForCurrencyPairs(accum, terms[0][i])\n",
    "            item = StockExchange + accum + terms[0][i]      #first\n",
    "\n",
    "            if last:\n",
    "                            #last\n",
    "                combinations.append(item)\n",
    "            else:                            #body\n",
    "                combine(terms[1:], item)\n",
    "\n",
    "def ruleForCurrencyPairs():\n",
    "    if accum == \"USD\" :\n",
    "        StockExchange = \"FX:\"\n",
    "    elif accum == \"GBP\":               #or  ( item = GBP) : #fix this \n",
    "        StockExchange = \"OANDA:\"\n",
    "    elif accum == \"JYP\" :\n",
    "        StockExchange = \"KRAKEN:\"\n",
    "    return StockExchange\n",
    "\n",
    "def label():\n",
    "    if accum == \"USD\" :\n",
    "        label = \"FX:\"\n",
    "    elif (accum == \"GBP\"):\n",
    "        label = \"OANDA:\"\n",
    "    elif accum == \"JYP\" :\n",
    "        label = \"KRAKEN:\"\n",
    "    return label\n",
    "\n",
    "a = [['GBP', 'USD', 'JYP'],['USD','GBP','EUR''AUD','CAD','CHF','JPY','NZD','BTC','ETH','XRP','LTC','EOS','XBT','BKEX']]\n",
    "combine(a, '')\n",
    "#print(combinations)\n",
    "print(', '.join(combinations))"
   ]
  },
  {
   "cell_type": "code",
   "execution_count": null,
   "metadata": {},
   "outputs": [],
   "source": []
  }
 ]
}